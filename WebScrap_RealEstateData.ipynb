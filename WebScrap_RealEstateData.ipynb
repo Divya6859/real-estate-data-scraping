{
  "nbformat": 4,
  "nbformat_minor": 0,
  "metadata": {
    "colab": {
      "provenance": [],
      "mount_file_id": "1U2t6OV7_j_1_MaXBaipdmAmWTro_KH9j",
      "authorship_tag": "ABX9TyNxnuv/AkhczzsCDvEKY4BT",
      "include_colab_link": true
    },
    "kernelspec": {
      "name": "python3",
      "display_name": "Python 3"
    },
    "language_info": {
      "name": "python"
    }
  },
  "cells": [
    {
      "cell_type": "markdown",
      "metadata": {
        "id": "view-in-github",
        "colab_type": "text"
      },
      "source": [
        "<a href=\"https://colab.research.google.com/github/Divya6859/real-estate-data-scraping/blob/main/WebScrap_RealEstateData.ipynb\" target=\"_parent\"><img src=\"https://colab.research.google.com/assets/colab-badge.svg\" alt=\"Open In Colab\"/></a>"
      ]
    },
    {
      "cell_type": "code",
      "source": [
        "import requests\n",
        "from bs4 import BeautifulSoup"
      ],
      "metadata": {
        "id": "fs113yqQ-ZE_"
      },
      "execution_count": 28,
      "outputs": []
    },
    {
      "cell_type": "code",
      "source": [
        "url = \"https://www.magicbricks.com/1-bhk-flats-for-rent-in-bangalore-pppfr\""
      ],
      "metadata": {
        "id": "qSfY9GX8-f0b"
      },
      "execution_count": 29,
      "outputs": []
    },
    {
      "cell_type": "code",
      "source": [
        "# Use headers to mimic a browser\n",
        "headers = {\n",
        "    \"User-Agent\": \"Mozilla/5.0 (Windows NT 10.0; Win64; x64) AppleWebKit/537.36 (KHTML, like Gecko) Chrome/140.0.0.0 Safari/537.36\"\n",
        "}\n",
        "\n",
        "response = requests.get(url, headers=headers)\n",
        "print(\"Status code:\", response.status_code)"
      ],
      "metadata": {
        "colab": {
          "base_uri": "https://localhost:8080/"
        },
        "id": "lBmdTy9l-iWR",
        "outputId": "f277c8c2-aa74-413d-d192-13953548e821"
      },
      "execution_count": 30,
      "outputs": [
        {
          "output_type": "stream",
          "name": "stdout",
          "text": [
            "Status code: 200\n"
          ]
        }
      ]
    },
    {
      "cell_type": "code",
      "source": [
        "# Parse the HTML\n",
        "soup = BeautifulSoup(response.content, 'html.parser')"
      ],
      "metadata": {
        "id": "O9SbzIRI-lte"
      },
      "execution_count": 31,
      "outputs": []
    },
    {
      "cell_type": "code",
      "source": [
        "# Find all listing elements\n",
        "listings = soup.find_all('div', class_='mb-srp__list')\n",
        "print(\"Number of listings found:\", len(listings))"
      ],
      "metadata": {
        "colab": {
          "base_uri": "https://localhost:8080/"
        },
        "id": "WbWsaZt3-pe5",
        "outputId": "f34d8a0a-9af6-45ad-fd17-72855d9fdf15"
      },
      "execution_count": 32,
      "outputs": [
        {
          "output_type": "stream",
          "name": "stdout",
          "text": [
            "Number of listings found: 30\n"
          ]
        }
      ]
    },
    {
      "cell_type": "code",
      "source": [
        "# Write to CSV\n",
        "with open('magicbricks_listings_1.csv', 'w', newline='', encoding='utf-8') as csvfile:\n",
        "    writer = csv.writer(csvfile)\n",
        "    writer.writerow(['Title', 'Price', 'Furnished', 'Bathroom', 'Carpet Area', 'Tenant', 'Status'])\n",
        "\n",
        "    for listing in listings:\n",
        "        # Title and price\n",
        "        title = listing.find('h2', class_='mb-srp__card--title')\n",
        "        title = title.text.strip() if title else \"Title not available\"\n",
        "\n",
        "        price = listing.find('div', class_='mb-srp__card__price--amount')\n",
        "        price = price.text.strip() if price else \"Price not available\"\n",
        "\n",
        "        # Summary details\n",
        "        summary_elements = listing.find_all('div', class_='mb-srp__card__summary--value')\n",
        "        furnished = summary_elements[0].text.strip() if len(summary_elements) > 0 else \"Furnished not available\"\n",
        "        bathroom = summary_elements[1].text.strip() if len(summary_elements) > 1 else \"Bathroom not available\"\n",
        "        tenant = summary_elements[2].text.strip() if len(summary_elements) > 2 else \"Tenant not available\"\n",
        "        status = summary_elements[3].text.strip() if len(summary_elements) > 3 else \"Status not available\"\n",
        "        carpet_area = summary_elements[4].text.strip() if len(summary_elements) > 4 else \"Carpet Area not available\"\n",
        "\n",
        "        # Write row\n",
        "        writer.writerow([title, price, furnished, bathroom, carpet_area, tenant, status])\n",
        "\n",
        "print(\"Scraping completed. Data saved to magicbricks_listings_1.csv\")\n"
      ],
      "metadata": {
        "colab": {
          "base_uri": "https://localhost:8080/"
        },
        "id": "h9mLtyxt-sb2",
        "outputId": "e7e0ed6f-5bb9-43df-e6a9-cff1f19603d6"
      },
      "execution_count": 33,
      "outputs": [
        {
          "output_type": "stream",
          "name": "stdout",
          "text": [
            "Scraping completed. Data saved to magicbricks_listings_1.csv\n"
          ]
        }
      ]
    },
    {
      "cell_type": "markdown",
      "source": [
        "Exploratory Analysis"
      ],
      "metadata": {
        "id": "0JHFsVZQ-53j"
      }
    },
    {
      "cell_type": "code",
      "source": [
        "import pandas as pd\n",
        "import numpy as np\n",
        "import matplotlib.pyplot as plt\n",
        "import seaborn as sns\n",
        "import warnings\n",
        "warnings.filterwarnings('ignore')"
      ],
      "metadata": {
        "id": "m9B1lBHr-xri"
      },
      "execution_count": 54,
      "outputs": []
    },
    {
      "cell_type": "code",
      "source": [
        "df = pd.read_csv('/content/magicbricks_listings_1.csv')\n",
        "df"
      ],
      "metadata": {
        "colab": {
          "base_uri": "https://localhost:8080/",
          "height": 990
        },
        "id": "aeiMf0eK_CaB",
        "outputId": "24847380-9855-429f-bc7f-1fca445c18d7"
      },
      "execution_count": 38,
      "outputs": [
        {
          "output_type": "execute_result",
          "data": {
            "text/plain": [
              "                                                Title    Price  \\\n",
              "0        1 BHK Flat for Rent in Btm Layout, Bangalore  ₹27,000   \n",
              "1   1 BHK Flat for Rent in Seegehalli Krishnarajap...  ₹10,000   \n",
              "2                    1 BHK Flat for Rent in Bangalore  ₹22,000   \n",
              "3   1 BHK Flat for Rent in Doddanekundi, Kartik Na...  ₹28,000   \n",
              "4       1 BHK Flat for Rent in Anup Layout, Bangalore  ₹13,000   \n",
              "5   1 BHK Flat for Rent in Phase 2 Electronic City...  ₹13,000   \n",
              "6          1 BHK Flat for Rent in NS Palya, Bangalore  ₹15,000   \n",
              "7                    1 BHK Flat for Rent in Bangalore  ₹14,000   \n",
              "8        1 BHK Flat for Rent in Whitefield, Bangalore  ₹28,000   \n",
              "9   1 BHK Flat for Rent in Devarachikkana Halli, B...  ₹16,000   \n",
              "10  1 BHK Flat for Rent in Nayak Layout, JP Nagar ...   ₹5,000   \n",
              "11      1 BHK Flat for Rent in Hongasandra, Bangalore  ₹12,000   \n",
              "12           1 BHK Flat for Rent in Jigani, Bangalore   ₹8,000   \n",
              "13  1 BHK Flat for Rent in Stage 4th BTM Layout, B...  ₹17,000   \n",
              "14            1 BHK Flat for Rent in Kudlu, Bangalore  ₹19,000   \n",
              "15          1 BHK Flat for Rent in Varthur, Bangalore  ₹25,000   \n",
              "16  1 BHK Flat for Rent in Electronic City, Bangalore  ₹10,000   \n",
              "17  1 BHK Flat for Rent in Nallurahalli Main Road,...  ₹37,000   \n",
              "18       1 BHK Flat for Rent in Whitefield, Bangalore  ₹15,000   \n",
              "19      1 BHK Flat for Rent in Tumkur Road, Bangalore  ₹16,000   \n",
              "20   1 BHK Flat for Rent in Domlur, Domlur, Bangalore  ₹13,500   \n",
              "21        1 BHK Flat for Rent in J P Nagar, Bangalore  ₹12,000   \n",
              "22    1 BHK Flat for Rent in Madhura Nagar, Bangalore  ₹15,000   \n",
              "23  1 BHK Flat for Rent in Suddaguntapalya, CV Ram...  ₹19,000   \n",
              "24     1 BHK Flat for Rent in Marathahalli, Bangalore  ₹12,000   \n",
              "25  1 BHK Flat for Rent in Vishwapriya Nagar, Begu...  ₹11,500   \n",
              "26  1 BHK Flat for Rent in Thambu Chetty Palya, Ba...   ₹6,500   \n",
              "27          1 BHK Flat for Rent in Varthur, Bangalore  ₹29,000   \n",
              "28  1 BHK Flat for Rent in Swami Vivekanandanagar ...  ₹11,000   \n",
              "29  1 BHK Flat for Rent in Neeladri Investment Lay...  ₹15,000   \n",
              "\n",
              "         Furnished  Bathroom Carpet Area            Tenant        Status  \n",
              "0      Unfurnished         1    600 sqft         Bachelors   Immediately  \n",
              "1      Unfurnished         1    500 sqft  Bachelors/Family   Immediately  \n",
              "2   Semi-Furnished         1    550 sqft  Bachelors/Family   Immediately  \n",
              "3        Furnished         1    700 sqft  Bachelors/Family   Immediately  \n",
              "4   Semi-Furnished         1    500 sqft  Bachelors/Family   Immediately  \n",
              "5   Semi-Furnished         1    450 sqft  Bachelors/Family   Immediately  \n",
              "6      Unfurnished         1    600 sqft  Bachelors/Family   Immediately  \n",
              "7   Semi-Furnished         1    110 sqft  Bachelors/Family   Immediately  \n",
              "8        Furnished         1    550 sqft  Bachelors/Family   Immediately  \n",
              "9   Semi-Furnished         1    500 sqft  Bachelors/Family   Immediately  \n",
              "10  Semi-Furnished         1    180 sqft  Bachelors/Family   Immediately  \n",
              "11  Semi-Furnished         1    400 sqft  Bachelors/Family   Immediately  \n",
              "12  Semi-Furnished         1    650 sqft  Bachelors/Family   Immediately  \n",
              "13  Semi-Furnished         1    500 sqft         Bachelors   Immediately  \n",
              "14  Semi-Furnished         1    400 sqft  Bachelors/Family  From Oct '25  \n",
              "15  Semi-Furnished         1    900 sqft  Bachelors/Family   Immediately  \n",
              "16  Semi-Furnished         1    390 sqft         Bachelors  From Oct '25  \n",
              "17       Furnished         1    300 sqft  Bachelors/Family   Immediately  \n",
              "18  Semi-Furnished         1    421 sqft         Bachelors  From Oct '25  \n",
              "19       Furnished         1    630 sqft         Bachelors   Immediately  \n",
              "20  Semi-Furnished         1    400 sqft  Bachelors/Family   Immediately  \n",
              "21       Furnished         1    650 sqft         Bachelors   Immediately  \n",
              "22       Furnished         1    500 sqft  Bachelors/Family   Immediately  \n",
              "23     Unfurnished         1    500 sqft         Bachelors   Immediately  \n",
              "24  Semi-Furnished         1    550 sqft  Bachelors/Family   Immediately  \n",
              "25  Semi-Furnished         1    350 sqft         Bachelors   Immediately  \n",
              "26  Semi-Furnished         1    600 sqft         Bachelors   Immediately  \n",
              "27       Furnished         1    547 sqft  Bachelors/Family   Immediately  \n",
              "28  Semi-Furnished         1    600 sqft         Bachelors   Immediately  \n",
              "29  Semi-Furnished         1    300 sqft         Bachelors   Immediately  "
            ],
            "text/html": [
              "\n",
              "  <div id=\"df-c30cfd16-e2ab-4e5f-a468-0a86411510b4\" class=\"colab-df-container\">\n",
              "    <div>\n",
              "<style scoped>\n",
              "    .dataframe tbody tr th:only-of-type {\n",
              "        vertical-align: middle;\n",
              "    }\n",
              "\n",
              "    .dataframe tbody tr th {\n",
              "        vertical-align: top;\n",
              "    }\n",
              "\n",
              "    .dataframe thead th {\n",
              "        text-align: right;\n",
              "    }\n",
              "</style>\n",
              "<table border=\"1\" class=\"dataframe\">\n",
              "  <thead>\n",
              "    <tr style=\"text-align: right;\">\n",
              "      <th></th>\n",
              "      <th>Title</th>\n",
              "      <th>Price</th>\n",
              "      <th>Furnished</th>\n",
              "      <th>Bathroom</th>\n",
              "      <th>Carpet Area</th>\n",
              "      <th>Tenant</th>\n",
              "      <th>Status</th>\n",
              "    </tr>\n",
              "  </thead>\n",
              "  <tbody>\n",
              "    <tr>\n",
              "      <th>0</th>\n",
              "      <td>1 BHK Flat for Rent in Btm Layout, Bangalore</td>\n",
              "      <td>₹27,000</td>\n",
              "      <td>Unfurnished</td>\n",
              "      <td>1</td>\n",
              "      <td>600 sqft</td>\n",
              "      <td>Bachelors</td>\n",
              "      <td>Immediately</td>\n",
              "    </tr>\n",
              "    <tr>\n",
              "      <th>1</th>\n",
              "      <td>1 BHK Flat for Rent in Seegehalli Krishnarajap...</td>\n",
              "      <td>₹10,000</td>\n",
              "      <td>Unfurnished</td>\n",
              "      <td>1</td>\n",
              "      <td>500 sqft</td>\n",
              "      <td>Bachelors/Family</td>\n",
              "      <td>Immediately</td>\n",
              "    </tr>\n",
              "    <tr>\n",
              "      <th>2</th>\n",
              "      <td>1 BHK Flat for Rent in Bangalore</td>\n",
              "      <td>₹22,000</td>\n",
              "      <td>Semi-Furnished</td>\n",
              "      <td>1</td>\n",
              "      <td>550 sqft</td>\n",
              "      <td>Bachelors/Family</td>\n",
              "      <td>Immediately</td>\n",
              "    </tr>\n",
              "    <tr>\n",
              "      <th>3</th>\n",
              "      <td>1 BHK Flat for Rent in Doddanekundi, Kartik Na...</td>\n",
              "      <td>₹28,000</td>\n",
              "      <td>Furnished</td>\n",
              "      <td>1</td>\n",
              "      <td>700 sqft</td>\n",
              "      <td>Bachelors/Family</td>\n",
              "      <td>Immediately</td>\n",
              "    </tr>\n",
              "    <tr>\n",
              "      <th>4</th>\n",
              "      <td>1 BHK Flat for Rent in Anup Layout, Bangalore</td>\n",
              "      <td>₹13,000</td>\n",
              "      <td>Semi-Furnished</td>\n",
              "      <td>1</td>\n",
              "      <td>500 sqft</td>\n",
              "      <td>Bachelors/Family</td>\n",
              "      <td>Immediately</td>\n",
              "    </tr>\n",
              "    <tr>\n",
              "      <th>5</th>\n",
              "      <td>1 BHK Flat for Rent in Phase 2 Electronic City...</td>\n",
              "      <td>₹13,000</td>\n",
              "      <td>Semi-Furnished</td>\n",
              "      <td>1</td>\n",
              "      <td>450 sqft</td>\n",
              "      <td>Bachelors/Family</td>\n",
              "      <td>Immediately</td>\n",
              "    </tr>\n",
              "    <tr>\n",
              "      <th>6</th>\n",
              "      <td>1 BHK Flat for Rent in NS Palya, Bangalore</td>\n",
              "      <td>₹15,000</td>\n",
              "      <td>Unfurnished</td>\n",
              "      <td>1</td>\n",
              "      <td>600 sqft</td>\n",
              "      <td>Bachelors/Family</td>\n",
              "      <td>Immediately</td>\n",
              "    </tr>\n",
              "    <tr>\n",
              "      <th>7</th>\n",
              "      <td>1 BHK Flat for Rent in Bangalore</td>\n",
              "      <td>₹14,000</td>\n",
              "      <td>Semi-Furnished</td>\n",
              "      <td>1</td>\n",
              "      <td>110 sqft</td>\n",
              "      <td>Bachelors/Family</td>\n",
              "      <td>Immediately</td>\n",
              "    </tr>\n",
              "    <tr>\n",
              "      <th>8</th>\n",
              "      <td>1 BHK Flat for Rent in Whitefield, Bangalore</td>\n",
              "      <td>₹28,000</td>\n",
              "      <td>Furnished</td>\n",
              "      <td>1</td>\n",
              "      <td>550 sqft</td>\n",
              "      <td>Bachelors/Family</td>\n",
              "      <td>Immediately</td>\n",
              "    </tr>\n",
              "    <tr>\n",
              "      <th>9</th>\n",
              "      <td>1 BHK Flat for Rent in Devarachikkana Halli, B...</td>\n",
              "      <td>₹16,000</td>\n",
              "      <td>Semi-Furnished</td>\n",
              "      <td>1</td>\n",
              "      <td>500 sqft</td>\n",
              "      <td>Bachelors/Family</td>\n",
              "      <td>Immediately</td>\n",
              "    </tr>\n",
              "    <tr>\n",
              "      <th>10</th>\n",
              "      <td>1 BHK Flat for Rent in Nayak Layout, JP Nagar ...</td>\n",
              "      <td>₹5,000</td>\n",
              "      <td>Semi-Furnished</td>\n",
              "      <td>1</td>\n",
              "      <td>180 sqft</td>\n",
              "      <td>Bachelors/Family</td>\n",
              "      <td>Immediately</td>\n",
              "    </tr>\n",
              "    <tr>\n",
              "      <th>11</th>\n",
              "      <td>1 BHK Flat for Rent in Hongasandra, Bangalore</td>\n",
              "      <td>₹12,000</td>\n",
              "      <td>Semi-Furnished</td>\n",
              "      <td>1</td>\n",
              "      <td>400 sqft</td>\n",
              "      <td>Bachelors/Family</td>\n",
              "      <td>Immediately</td>\n",
              "    </tr>\n",
              "    <tr>\n",
              "      <th>12</th>\n",
              "      <td>1 BHK Flat for Rent in Jigani, Bangalore</td>\n",
              "      <td>₹8,000</td>\n",
              "      <td>Semi-Furnished</td>\n",
              "      <td>1</td>\n",
              "      <td>650 sqft</td>\n",
              "      <td>Bachelors/Family</td>\n",
              "      <td>Immediately</td>\n",
              "    </tr>\n",
              "    <tr>\n",
              "      <th>13</th>\n",
              "      <td>1 BHK Flat for Rent in Stage 4th BTM Layout, B...</td>\n",
              "      <td>₹17,000</td>\n",
              "      <td>Semi-Furnished</td>\n",
              "      <td>1</td>\n",
              "      <td>500 sqft</td>\n",
              "      <td>Bachelors</td>\n",
              "      <td>Immediately</td>\n",
              "    </tr>\n",
              "    <tr>\n",
              "      <th>14</th>\n",
              "      <td>1 BHK Flat for Rent in Kudlu, Bangalore</td>\n",
              "      <td>₹19,000</td>\n",
              "      <td>Semi-Furnished</td>\n",
              "      <td>1</td>\n",
              "      <td>400 sqft</td>\n",
              "      <td>Bachelors/Family</td>\n",
              "      <td>From Oct '25</td>\n",
              "    </tr>\n",
              "    <tr>\n",
              "      <th>15</th>\n",
              "      <td>1 BHK Flat for Rent in Varthur, Bangalore</td>\n",
              "      <td>₹25,000</td>\n",
              "      <td>Semi-Furnished</td>\n",
              "      <td>1</td>\n",
              "      <td>900 sqft</td>\n",
              "      <td>Bachelors/Family</td>\n",
              "      <td>Immediately</td>\n",
              "    </tr>\n",
              "    <tr>\n",
              "      <th>16</th>\n",
              "      <td>1 BHK Flat for Rent in Electronic City, Bangalore</td>\n",
              "      <td>₹10,000</td>\n",
              "      <td>Semi-Furnished</td>\n",
              "      <td>1</td>\n",
              "      <td>390 sqft</td>\n",
              "      <td>Bachelors</td>\n",
              "      <td>From Oct '25</td>\n",
              "    </tr>\n",
              "    <tr>\n",
              "      <th>17</th>\n",
              "      <td>1 BHK Flat for Rent in Nallurahalli Main Road,...</td>\n",
              "      <td>₹37,000</td>\n",
              "      <td>Furnished</td>\n",
              "      <td>1</td>\n",
              "      <td>300 sqft</td>\n",
              "      <td>Bachelors/Family</td>\n",
              "      <td>Immediately</td>\n",
              "    </tr>\n",
              "    <tr>\n",
              "      <th>18</th>\n",
              "      <td>1 BHK Flat for Rent in Whitefield, Bangalore</td>\n",
              "      <td>₹15,000</td>\n",
              "      <td>Semi-Furnished</td>\n",
              "      <td>1</td>\n",
              "      <td>421 sqft</td>\n",
              "      <td>Bachelors</td>\n",
              "      <td>From Oct '25</td>\n",
              "    </tr>\n",
              "    <tr>\n",
              "      <th>19</th>\n",
              "      <td>1 BHK Flat for Rent in Tumkur Road, Bangalore</td>\n",
              "      <td>₹16,000</td>\n",
              "      <td>Furnished</td>\n",
              "      <td>1</td>\n",
              "      <td>630 sqft</td>\n",
              "      <td>Bachelors</td>\n",
              "      <td>Immediately</td>\n",
              "    </tr>\n",
              "    <tr>\n",
              "      <th>20</th>\n",
              "      <td>1 BHK Flat for Rent in Domlur, Domlur, Bangalore</td>\n",
              "      <td>₹13,500</td>\n",
              "      <td>Semi-Furnished</td>\n",
              "      <td>1</td>\n",
              "      <td>400 sqft</td>\n",
              "      <td>Bachelors/Family</td>\n",
              "      <td>Immediately</td>\n",
              "    </tr>\n",
              "    <tr>\n",
              "      <th>21</th>\n",
              "      <td>1 BHK Flat for Rent in J P Nagar, Bangalore</td>\n",
              "      <td>₹12,000</td>\n",
              "      <td>Furnished</td>\n",
              "      <td>1</td>\n",
              "      <td>650 sqft</td>\n",
              "      <td>Bachelors</td>\n",
              "      <td>Immediately</td>\n",
              "    </tr>\n",
              "    <tr>\n",
              "      <th>22</th>\n",
              "      <td>1 BHK Flat for Rent in Madhura Nagar, Bangalore</td>\n",
              "      <td>₹15,000</td>\n",
              "      <td>Furnished</td>\n",
              "      <td>1</td>\n",
              "      <td>500 sqft</td>\n",
              "      <td>Bachelors/Family</td>\n",
              "      <td>Immediately</td>\n",
              "    </tr>\n",
              "    <tr>\n",
              "      <th>23</th>\n",
              "      <td>1 BHK Flat for Rent in Suddaguntapalya, CV Ram...</td>\n",
              "      <td>₹19,000</td>\n",
              "      <td>Unfurnished</td>\n",
              "      <td>1</td>\n",
              "      <td>500 sqft</td>\n",
              "      <td>Bachelors</td>\n",
              "      <td>Immediately</td>\n",
              "    </tr>\n",
              "    <tr>\n",
              "      <th>24</th>\n",
              "      <td>1 BHK Flat for Rent in Marathahalli, Bangalore</td>\n",
              "      <td>₹12,000</td>\n",
              "      <td>Semi-Furnished</td>\n",
              "      <td>1</td>\n",
              "      <td>550 sqft</td>\n",
              "      <td>Bachelors/Family</td>\n",
              "      <td>Immediately</td>\n",
              "    </tr>\n",
              "    <tr>\n",
              "      <th>25</th>\n",
              "      <td>1 BHK Flat for Rent in Vishwapriya Nagar, Begu...</td>\n",
              "      <td>₹11,500</td>\n",
              "      <td>Semi-Furnished</td>\n",
              "      <td>1</td>\n",
              "      <td>350 sqft</td>\n",
              "      <td>Bachelors</td>\n",
              "      <td>Immediately</td>\n",
              "    </tr>\n",
              "    <tr>\n",
              "      <th>26</th>\n",
              "      <td>1 BHK Flat for Rent in Thambu Chetty Palya, Ba...</td>\n",
              "      <td>₹6,500</td>\n",
              "      <td>Semi-Furnished</td>\n",
              "      <td>1</td>\n",
              "      <td>600 sqft</td>\n",
              "      <td>Bachelors</td>\n",
              "      <td>Immediately</td>\n",
              "    </tr>\n",
              "    <tr>\n",
              "      <th>27</th>\n",
              "      <td>1 BHK Flat for Rent in Varthur, Bangalore</td>\n",
              "      <td>₹29,000</td>\n",
              "      <td>Furnished</td>\n",
              "      <td>1</td>\n",
              "      <td>547 sqft</td>\n",
              "      <td>Bachelors/Family</td>\n",
              "      <td>Immediately</td>\n",
              "    </tr>\n",
              "    <tr>\n",
              "      <th>28</th>\n",
              "      <td>1 BHK Flat for Rent in Swami Vivekanandanagar ...</td>\n",
              "      <td>₹11,000</td>\n",
              "      <td>Semi-Furnished</td>\n",
              "      <td>1</td>\n",
              "      <td>600 sqft</td>\n",
              "      <td>Bachelors</td>\n",
              "      <td>Immediately</td>\n",
              "    </tr>\n",
              "    <tr>\n",
              "      <th>29</th>\n",
              "      <td>1 BHK Flat for Rent in Neeladri Investment Lay...</td>\n",
              "      <td>₹15,000</td>\n",
              "      <td>Semi-Furnished</td>\n",
              "      <td>1</td>\n",
              "      <td>300 sqft</td>\n",
              "      <td>Bachelors</td>\n",
              "      <td>Immediately</td>\n",
              "    </tr>\n",
              "  </tbody>\n",
              "</table>\n",
              "</div>\n",
              "    <div class=\"colab-df-buttons\">\n",
              "\n",
              "  <div class=\"colab-df-container\">\n",
              "    <button class=\"colab-df-convert\" onclick=\"convertToInteractive('df-c30cfd16-e2ab-4e5f-a468-0a86411510b4')\"\n",
              "            title=\"Convert this dataframe to an interactive table.\"\n",
              "            style=\"display:none;\">\n",
              "\n",
              "  <svg xmlns=\"http://www.w3.org/2000/svg\" height=\"24px\" viewBox=\"0 -960 960 960\">\n",
              "    <path d=\"M120-120v-720h720v720H120Zm60-500h600v-160H180v160Zm220 220h160v-160H400v160Zm0 220h160v-160H400v160ZM180-400h160v-160H180v160Zm440 0h160v-160H620v160ZM180-180h160v-160H180v160Zm440 0h160v-160H620v160Z\"/>\n",
              "  </svg>\n",
              "    </button>\n",
              "\n",
              "  <style>\n",
              "    .colab-df-container {\n",
              "      display:flex;\n",
              "      gap: 12px;\n",
              "    }\n",
              "\n",
              "    .colab-df-convert {\n",
              "      background-color: #E8F0FE;\n",
              "      border: none;\n",
              "      border-radius: 50%;\n",
              "      cursor: pointer;\n",
              "      display: none;\n",
              "      fill: #1967D2;\n",
              "      height: 32px;\n",
              "      padding: 0 0 0 0;\n",
              "      width: 32px;\n",
              "    }\n",
              "\n",
              "    .colab-df-convert:hover {\n",
              "      background-color: #E2EBFA;\n",
              "      box-shadow: 0px 1px 2px rgba(60, 64, 67, 0.3), 0px 1px 3px 1px rgba(60, 64, 67, 0.15);\n",
              "      fill: #174EA6;\n",
              "    }\n",
              "\n",
              "    .colab-df-buttons div {\n",
              "      margin-bottom: 4px;\n",
              "    }\n",
              "\n",
              "    [theme=dark] .colab-df-convert {\n",
              "      background-color: #3B4455;\n",
              "      fill: #D2E3FC;\n",
              "    }\n",
              "\n",
              "    [theme=dark] .colab-df-convert:hover {\n",
              "      background-color: #434B5C;\n",
              "      box-shadow: 0px 1px 3px 1px rgba(0, 0, 0, 0.15);\n",
              "      filter: drop-shadow(0px 1px 2px rgba(0, 0, 0, 0.3));\n",
              "      fill: #FFFFFF;\n",
              "    }\n",
              "  </style>\n",
              "\n",
              "    <script>\n",
              "      const buttonEl =\n",
              "        document.querySelector('#df-c30cfd16-e2ab-4e5f-a468-0a86411510b4 button.colab-df-convert');\n",
              "      buttonEl.style.display =\n",
              "        google.colab.kernel.accessAllowed ? 'block' : 'none';\n",
              "\n",
              "      async function convertToInteractive(key) {\n",
              "        const element = document.querySelector('#df-c30cfd16-e2ab-4e5f-a468-0a86411510b4');\n",
              "        const dataTable =\n",
              "          await google.colab.kernel.invokeFunction('convertToInteractive',\n",
              "                                                    [key], {});\n",
              "        if (!dataTable) return;\n",
              "\n",
              "        const docLinkHtml = 'Like what you see? Visit the ' +\n",
              "          '<a target=\"_blank\" href=https://colab.research.google.com/notebooks/data_table.ipynb>data table notebook</a>'\n",
              "          + ' to learn more about interactive tables.';\n",
              "        element.innerHTML = '';\n",
              "        dataTable['output_type'] = 'display_data';\n",
              "        await google.colab.output.renderOutput(dataTable, element);\n",
              "        const docLink = document.createElement('div');\n",
              "        docLink.innerHTML = docLinkHtml;\n",
              "        element.appendChild(docLink);\n",
              "      }\n",
              "    </script>\n",
              "  </div>\n",
              "\n",
              "\n",
              "    <div id=\"df-8f61aed9-b302-44ef-aeb4-3c63930cef21\">\n",
              "      <button class=\"colab-df-quickchart\" onclick=\"quickchart('df-8f61aed9-b302-44ef-aeb4-3c63930cef21')\"\n",
              "                title=\"Suggest charts\"\n",
              "                style=\"display:none;\">\n",
              "\n",
              "<svg xmlns=\"http://www.w3.org/2000/svg\" height=\"24px\"viewBox=\"0 0 24 24\"\n",
              "     width=\"24px\">\n",
              "    <g>\n",
              "        <path d=\"M19 3H5c-1.1 0-2 .9-2 2v14c0 1.1.9 2 2 2h14c1.1 0 2-.9 2-2V5c0-1.1-.9-2-2-2zM9 17H7v-7h2v7zm4 0h-2V7h2v10zm4 0h-2v-4h2v4z\"/>\n",
              "    </g>\n",
              "</svg>\n",
              "      </button>\n",
              "\n",
              "<style>\n",
              "  .colab-df-quickchart {\n",
              "      --bg-color: #E8F0FE;\n",
              "      --fill-color: #1967D2;\n",
              "      --hover-bg-color: #E2EBFA;\n",
              "      --hover-fill-color: #174EA6;\n",
              "      --disabled-fill-color: #AAA;\n",
              "      --disabled-bg-color: #DDD;\n",
              "  }\n",
              "\n",
              "  [theme=dark] .colab-df-quickchart {\n",
              "      --bg-color: #3B4455;\n",
              "      --fill-color: #D2E3FC;\n",
              "      --hover-bg-color: #434B5C;\n",
              "      --hover-fill-color: #FFFFFF;\n",
              "      --disabled-bg-color: #3B4455;\n",
              "      --disabled-fill-color: #666;\n",
              "  }\n",
              "\n",
              "  .colab-df-quickchart {\n",
              "    background-color: var(--bg-color);\n",
              "    border: none;\n",
              "    border-radius: 50%;\n",
              "    cursor: pointer;\n",
              "    display: none;\n",
              "    fill: var(--fill-color);\n",
              "    height: 32px;\n",
              "    padding: 0;\n",
              "    width: 32px;\n",
              "  }\n",
              "\n",
              "  .colab-df-quickchart:hover {\n",
              "    background-color: var(--hover-bg-color);\n",
              "    box-shadow: 0 1px 2px rgba(60, 64, 67, 0.3), 0 1px 3px 1px rgba(60, 64, 67, 0.15);\n",
              "    fill: var(--button-hover-fill-color);\n",
              "  }\n",
              "\n",
              "  .colab-df-quickchart-complete:disabled,\n",
              "  .colab-df-quickchart-complete:disabled:hover {\n",
              "    background-color: var(--disabled-bg-color);\n",
              "    fill: var(--disabled-fill-color);\n",
              "    box-shadow: none;\n",
              "  }\n",
              "\n",
              "  .colab-df-spinner {\n",
              "    border: 2px solid var(--fill-color);\n",
              "    border-color: transparent;\n",
              "    border-bottom-color: var(--fill-color);\n",
              "    animation:\n",
              "      spin 1s steps(1) infinite;\n",
              "  }\n",
              "\n",
              "  @keyframes spin {\n",
              "    0% {\n",
              "      border-color: transparent;\n",
              "      border-bottom-color: var(--fill-color);\n",
              "      border-left-color: var(--fill-color);\n",
              "    }\n",
              "    20% {\n",
              "      border-color: transparent;\n",
              "      border-left-color: var(--fill-color);\n",
              "      border-top-color: var(--fill-color);\n",
              "    }\n",
              "    30% {\n",
              "      border-color: transparent;\n",
              "      border-left-color: var(--fill-color);\n",
              "      border-top-color: var(--fill-color);\n",
              "      border-right-color: var(--fill-color);\n",
              "    }\n",
              "    40% {\n",
              "      border-color: transparent;\n",
              "      border-right-color: var(--fill-color);\n",
              "      border-top-color: var(--fill-color);\n",
              "    }\n",
              "    60% {\n",
              "      border-color: transparent;\n",
              "      border-right-color: var(--fill-color);\n",
              "    }\n",
              "    80% {\n",
              "      border-color: transparent;\n",
              "      border-right-color: var(--fill-color);\n",
              "      border-bottom-color: var(--fill-color);\n",
              "    }\n",
              "    90% {\n",
              "      border-color: transparent;\n",
              "      border-bottom-color: var(--fill-color);\n",
              "    }\n",
              "  }\n",
              "</style>\n",
              "\n",
              "      <script>\n",
              "        async function quickchart(key) {\n",
              "          const quickchartButtonEl =\n",
              "            document.querySelector('#' + key + ' button');\n",
              "          quickchartButtonEl.disabled = true;  // To prevent multiple clicks.\n",
              "          quickchartButtonEl.classList.add('colab-df-spinner');\n",
              "          try {\n",
              "            const charts = await google.colab.kernel.invokeFunction(\n",
              "                'suggestCharts', [key], {});\n",
              "          } catch (error) {\n",
              "            console.error('Error during call to suggestCharts:', error);\n",
              "          }\n",
              "          quickchartButtonEl.classList.remove('colab-df-spinner');\n",
              "          quickchartButtonEl.classList.add('colab-df-quickchart-complete');\n",
              "        }\n",
              "        (() => {\n",
              "          let quickchartButtonEl =\n",
              "            document.querySelector('#df-8f61aed9-b302-44ef-aeb4-3c63930cef21 button');\n",
              "          quickchartButtonEl.style.display =\n",
              "            google.colab.kernel.accessAllowed ? 'block' : 'none';\n",
              "        })();\n",
              "      </script>\n",
              "    </div>\n",
              "\n",
              "  <div id=\"id_255d32bf-e1f4-4445-8909-5b7a479d0260\">\n",
              "    <style>\n",
              "      .colab-df-generate {\n",
              "        background-color: #E8F0FE;\n",
              "        border: none;\n",
              "        border-radius: 50%;\n",
              "        cursor: pointer;\n",
              "        display: none;\n",
              "        fill: #1967D2;\n",
              "        height: 32px;\n",
              "        padding: 0 0 0 0;\n",
              "        width: 32px;\n",
              "      }\n",
              "\n",
              "      .colab-df-generate:hover {\n",
              "        background-color: #E2EBFA;\n",
              "        box-shadow: 0px 1px 2px rgba(60, 64, 67, 0.3), 0px 1px 3px 1px rgba(60, 64, 67, 0.15);\n",
              "        fill: #174EA6;\n",
              "      }\n",
              "\n",
              "      [theme=dark] .colab-df-generate {\n",
              "        background-color: #3B4455;\n",
              "        fill: #D2E3FC;\n",
              "      }\n",
              "\n",
              "      [theme=dark] .colab-df-generate:hover {\n",
              "        background-color: #434B5C;\n",
              "        box-shadow: 0px 1px 3px 1px rgba(0, 0, 0, 0.15);\n",
              "        filter: drop-shadow(0px 1px 2px rgba(0, 0, 0, 0.3));\n",
              "        fill: #FFFFFF;\n",
              "      }\n",
              "    </style>\n",
              "    <button class=\"colab-df-generate\" onclick=\"generateWithVariable('df')\"\n",
              "            title=\"Generate code using this dataframe.\"\n",
              "            style=\"display:none;\">\n",
              "\n",
              "  <svg xmlns=\"http://www.w3.org/2000/svg\" height=\"24px\"viewBox=\"0 0 24 24\"\n",
              "       width=\"24px\">\n",
              "    <path d=\"M7,19H8.4L18.45,9,17,7.55,7,17.6ZM5,21V16.75L18.45,3.32a2,2,0,0,1,2.83,0l1.4,1.43a1.91,1.91,0,0,1,.58,1.4,1.91,1.91,0,0,1-.58,1.4L9.25,21ZM18.45,9,17,7.55Zm-12,3A5.31,5.31,0,0,0,4.9,8.1,5.31,5.31,0,0,0,1,6.5,5.31,5.31,0,0,0,4.9,4.9,5.31,5.31,0,0,0,6.5,1,5.31,5.31,0,0,0,8.1,4.9,5.31,5.31,0,0,0,12,6.5,5.46,5.46,0,0,0,6.5,12Z\"/>\n",
              "  </svg>\n",
              "    </button>\n",
              "    <script>\n",
              "      (() => {\n",
              "      const buttonEl =\n",
              "        document.querySelector('#id_255d32bf-e1f4-4445-8909-5b7a479d0260 button.colab-df-generate');\n",
              "      buttonEl.style.display =\n",
              "        google.colab.kernel.accessAllowed ? 'block' : 'none';\n",
              "\n",
              "      buttonEl.onclick = () => {\n",
              "        google.colab.notebook.generateWithVariable('df');\n",
              "      }\n",
              "      })();\n",
              "    </script>\n",
              "  </div>\n",
              "\n",
              "    </div>\n",
              "  </div>\n"
            ],
            "application/vnd.google.colaboratory.intrinsic+json": {
              "type": "dataframe",
              "variable_name": "df",
              "summary": "{\n  \"name\": \"df\",\n  \"rows\": 30,\n  \"fields\": [\n    {\n      \"column\": \"Title\",\n      \"properties\": {\n        \"dtype\": \"string\",\n        \"num_unique_values\": 27,\n        \"samples\": [\n          \"1 BHK Flat for Rent in Devarachikkana Halli, Bangalore\",\n          \"1 BHK Flat for Rent in Kudlu, Bangalore\",\n          \"1 BHK Flat for Rent in Nayak Layout, JP Nagar Phase 8, Bangalore\"\n        ],\n        \"semantic_type\": \"\",\n        \"description\": \"\"\n      }\n    },\n    {\n      \"column\": \"Price\",\n      \"properties\": {\n        \"dtype\": \"string\",\n        \"num_unique_values\": 20,\n        \"samples\": [\n          \"\\u20b927,000\",\n          \"\\u20b96,500\",\n          \"\\u20b913,500\"\n        ],\n        \"semantic_type\": \"\",\n        \"description\": \"\"\n      }\n    },\n    {\n      \"column\": \"Furnished\",\n      \"properties\": {\n        \"dtype\": \"category\",\n        \"num_unique_values\": 3,\n        \"samples\": [\n          \"Unfurnished\",\n          \"Semi-Furnished\",\n          \"Furnished\"\n        ],\n        \"semantic_type\": \"\",\n        \"description\": \"\"\n      }\n    },\n    {\n      \"column\": \"Bathroom\",\n      \"properties\": {\n        \"dtype\": \"number\",\n        \"std\": 0,\n        \"min\": 1,\n        \"max\": 1,\n        \"num_unique_values\": 1,\n        \"samples\": [\n          1\n        ],\n        \"semantic_type\": \"\",\n        \"description\": \"\"\n      }\n    },\n    {\n      \"column\": \"Carpet Area\",\n      \"properties\": {\n        \"dtype\": \"string\",\n        \"num_unique_values\": 16,\n        \"samples\": [\n          \"600 sqft\"\n        ],\n        \"semantic_type\": \"\",\n        \"description\": \"\"\n      }\n    },\n    {\n      \"column\": \"Tenant\",\n      \"properties\": {\n        \"dtype\": \"category\",\n        \"num_unique_values\": 2,\n        \"samples\": [\n          \"Bachelors/Family\"\n        ],\n        \"semantic_type\": \"\",\n        \"description\": \"\"\n      }\n    },\n    {\n      \"column\": \"Status\",\n      \"properties\": {\n        \"dtype\": \"category\",\n        \"num_unique_values\": 2,\n        \"samples\": [\n          \"From Oct '25\"\n        ],\n        \"semantic_type\": \"\",\n        \"description\": \"\"\n      }\n    }\n  ]\n}"
            }
          },
          "metadata": {},
          "execution_count": 38
        }
      ]
    },
    {
      "cell_type": "code",
      "source": [
        "df.info()"
      ],
      "metadata": {
        "colab": {
          "base_uri": "https://localhost:8080/"
        },
        "id": "YluY78gJ_HUh",
        "outputId": "19ca41b9-0e5d-43e3-8201-2cfdaac01654"
      },
      "execution_count": 39,
      "outputs": [
        {
          "output_type": "stream",
          "name": "stdout",
          "text": [
            "<class 'pandas.core.frame.DataFrame'>\n",
            "RangeIndex: 30 entries, 0 to 29\n",
            "Data columns (total 7 columns):\n",
            " #   Column       Non-Null Count  Dtype \n",
            "---  ------       --------------  ----- \n",
            " 0   Title        30 non-null     object\n",
            " 1   Price        30 non-null     object\n",
            " 2   Furnished    30 non-null     object\n",
            " 3   Bathroom     30 non-null     int64 \n",
            " 4   Carpet Area  30 non-null     object\n",
            " 5   Tenant       30 non-null     object\n",
            " 6   Status       30 non-null     object\n",
            "dtypes: int64(1), object(6)\n",
            "memory usage: 1.8+ KB\n"
          ]
        }
      ]
    },
    {
      "cell_type": "code",
      "source": [
        "df.describe()"
      ],
      "metadata": {
        "colab": {
          "base_uri": "https://localhost:8080/",
          "height": 300
        },
        "id": "xuW43nOF_uGe",
        "outputId": "ad63e3c0-ef3a-4cdf-a5d5-cad10340db5a"
      },
      "execution_count": 40,
      "outputs": [
        {
          "output_type": "execute_result",
          "data": {
            "text/plain": [
              "       Bathroom\n",
              "count      30.0\n",
              "mean        1.0\n",
              "std         0.0\n",
              "min         1.0\n",
              "25%         1.0\n",
              "50%         1.0\n",
              "75%         1.0\n",
              "max         1.0"
            ],
            "text/html": [
              "\n",
              "  <div id=\"df-36b56c2d-dc8a-4207-ad17-a9d1483cf9af\" class=\"colab-df-container\">\n",
              "    <div>\n",
              "<style scoped>\n",
              "    .dataframe tbody tr th:only-of-type {\n",
              "        vertical-align: middle;\n",
              "    }\n",
              "\n",
              "    .dataframe tbody tr th {\n",
              "        vertical-align: top;\n",
              "    }\n",
              "\n",
              "    .dataframe thead th {\n",
              "        text-align: right;\n",
              "    }\n",
              "</style>\n",
              "<table border=\"1\" class=\"dataframe\">\n",
              "  <thead>\n",
              "    <tr style=\"text-align: right;\">\n",
              "      <th></th>\n",
              "      <th>Bathroom</th>\n",
              "    </tr>\n",
              "  </thead>\n",
              "  <tbody>\n",
              "    <tr>\n",
              "      <th>count</th>\n",
              "      <td>30.0</td>\n",
              "    </tr>\n",
              "    <tr>\n",
              "      <th>mean</th>\n",
              "      <td>1.0</td>\n",
              "    </tr>\n",
              "    <tr>\n",
              "      <th>std</th>\n",
              "      <td>0.0</td>\n",
              "    </tr>\n",
              "    <tr>\n",
              "      <th>min</th>\n",
              "      <td>1.0</td>\n",
              "    </tr>\n",
              "    <tr>\n",
              "      <th>25%</th>\n",
              "      <td>1.0</td>\n",
              "    </tr>\n",
              "    <tr>\n",
              "      <th>50%</th>\n",
              "      <td>1.0</td>\n",
              "    </tr>\n",
              "    <tr>\n",
              "      <th>75%</th>\n",
              "      <td>1.0</td>\n",
              "    </tr>\n",
              "    <tr>\n",
              "      <th>max</th>\n",
              "      <td>1.0</td>\n",
              "    </tr>\n",
              "  </tbody>\n",
              "</table>\n",
              "</div>\n",
              "    <div class=\"colab-df-buttons\">\n",
              "\n",
              "  <div class=\"colab-df-container\">\n",
              "    <button class=\"colab-df-convert\" onclick=\"convertToInteractive('df-36b56c2d-dc8a-4207-ad17-a9d1483cf9af')\"\n",
              "            title=\"Convert this dataframe to an interactive table.\"\n",
              "            style=\"display:none;\">\n",
              "\n",
              "  <svg xmlns=\"http://www.w3.org/2000/svg\" height=\"24px\" viewBox=\"0 -960 960 960\">\n",
              "    <path d=\"M120-120v-720h720v720H120Zm60-500h600v-160H180v160Zm220 220h160v-160H400v160Zm0 220h160v-160H400v160ZM180-400h160v-160H180v160Zm440 0h160v-160H620v160ZM180-180h160v-160H180v160Zm440 0h160v-160H620v160Z\"/>\n",
              "  </svg>\n",
              "    </button>\n",
              "\n",
              "  <style>\n",
              "    .colab-df-container {\n",
              "      display:flex;\n",
              "      gap: 12px;\n",
              "    }\n",
              "\n",
              "    .colab-df-convert {\n",
              "      background-color: #E8F0FE;\n",
              "      border: none;\n",
              "      border-radius: 50%;\n",
              "      cursor: pointer;\n",
              "      display: none;\n",
              "      fill: #1967D2;\n",
              "      height: 32px;\n",
              "      padding: 0 0 0 0;\n",
              "      width: 32px;\n",
              "    }\n",
              "\n",
              "    .colab-df-convert:hover {\n",
              "      background-color: #E2EBFA;\n",
              "      box-shadow: 0px 1px 2px rgba(60, 64, 67, 0.3), 0px 1px 3px 1px rgba(60, 64, 67, 0.15);\n",
              "      fill: #174EA6;\n",
              "    }\n",
              "\n",
              "    .colab-df-buttons div {\n",
              "      margin-bottom: 4px;\n",
              "    }\n",
              "\n",
              "    [theme=dark] .colab-df-convert {\n",
              "      background-color: #3B4455;\n",
              "      fill: #D2E3FC;\n",
              "    }\n",
              "\n",
              "    [theme=dark] .colab-df-convert:hover {\n",
              "      background-color: #434B5C;\n",
              "      box-shadow: 0px 1px 3px 1px rgba(0, 0, 0, 0.15);\n",
              "      filter: drop-shadow(0px 1px 2px rgba(0, 0, 0, 0.3));\n",
              "      fill: #FFFFFF;\n",
              "    }\n",
              "  </style>\n",
              "\n",
              "    <script>\n",
              "      const buttonEl =\n",
              "        document.querySelector('#df-36b56c2d-dc8a-4207-ad17-a9d1483cf9af button.colab-df-convert');\n",
              "      buttonEl.style.display =\n",
              "        google.colab.kernel.accessAllowed ? 'block' : 'none';\n",
              "\n",
              "      async function convertToInteractive(key) {\n",
              "        const element = document.querySelector('#df-36b56c2d-dc8a-4207-ad17-a9d1483cf9af');\n",
              "        const dataTable =\n",
              "          await google.colab.kernel.invokeFunction('convertToInteractive',\n",
              "                                                    [key], {});\n",
              "        if (!dataTable) return;\n",
              "\n",
              "        const docLinkHtml = 'Like what you see? Visit the ' +\n",
              "          '<a target=\"_blank\" href=https://colab.research.google.com/notebooks/data_table.ipynb>data table notebook</a>'\n",
              "          + ' to learn more about interactive tables.';\n",
              "        element.innerHTML = '';\n",
              "        dataTable['output_type'] = 'display_data';\n",
              "        await google.colab.output.renderOutput(dataTable, element);\n",
              "        const docLink = document.createElement('div');\n",
              "        docLink.innerHTML = docLinkHtml;\n",
              "        element.appendChild(docLink);\n",
              "      }\n",
              "    </script>\n",
              "  </div>\n",
              "\n",
              "\n",
              "    <div id=\"df-393de01a-21df-4fa4-8abc-1c23d6854d1a\">\n",
              "      <button class=\"colab-df-quickchart\" onclick=\"quickchart('df-393de01a-21df-4fa4-8abc-1c23d6854d1a')\"\n",
              "                title=\"Suggest charts\"\n",
              "                style=\"display:none;\">\n",
              "\n",
              "<svg xmlns=\"http://www.w3.org/2000/svg\" height=\"24px\"viewBox=\"0 0 24 24\"\n",
              "     width=\"24px\">\n",
              "    <g>\n",
              "        <path d=\"M19 3H5c-1.1 0-2 .9-2 2v14c0 1.1.9 2 2 2h14c1.1 0 2-.9 2-2V5c0-1.1-.9-2-2-2zM9 17H7v-7h2v7zm4 0h-2V7h2v10zm4 0h-2v-4h2v4z\"/>\n",
              "    </g>\n",
              "</svg>\n",
              "      </button>\n",
              "\n",
              "<style>\n",
              "  .colab-df-quickchart {\n",
              "      --bg-color: #E8F0FE;\n",
              "      --fill-color: #1967D2;\n",
              "      --hover-bg-color: #E2EBFA;\n",
              "      --hover-fill-color: #174EA6;\n",
              "      --disabled-fill-color: #AAA;\n",
              "      --disabled-bg-color: #DDD;\n",
              "  }\n",
              "\n",
              "  [theme=dark] .colab-df-quickchart {\n",
              "      --bg-color: #3B4455;\n",
              "      --fill-color: #D2E3FC;\n",
              "      --hover-bg-color: #434B5C;\n",
              "      --hover-fill-color: #FFFFFF;\n",
              "      --disabled-bg-color: #3B4455;\n",
              "      --disabled-fill-color: #666;\n",
              "  }\n",
              "\n",
              "  .colab-df-quickchart {\n",
              "    background-color: var(--bg-color);\n",
              "    border: none;\n",
              "    border-radius: 50%;\n",
              "    cursor: pointer;\n",
              "    display: none;\n",
              "    fill: var(--fill-color);\n",
              "    height: 32px;\n",
              "    padding: 0;\n",
              "    width: 32px;\n",
              "  }\n",
              "\n",
              "  .colab-df-quickchart:hover {\n",
              "    background-color: var(--hover-bg-color);\n",
              "    box-shadow: 0 1px 2px rgba(60, 64, 67, 0.3), 0 1px 3px 1px rgba(60, 64, 67, 0.15);\n",
              "    fill: var(--button-hover-fill-color);\n",
              "  }\n",
              "\n",
              "  .colab-df-quickchart-complete:disabled,\n",
              "  .colab-df-quickchart-complete:disabled:hover {\n",
              "    background-color: var(--disabled-bg-color);\n",
              "    fill: var(--disabled-fill-color);\n",
              "    box-shadow: none;\n",
              "  }\n",
              "\n",
              "  .colab-df-spinner {\n",
              "    border: 2px solid var(--fill-color);\n",
              "    border-color: transparent;\n",
              "    border-bottom-color: var(--fill-color);\n",
              "    animation:\n",
              "      spin 1s steps(1) infinite;\n",
              "  }\n",
              "\n",
              "  @keyframes spin {\n",
              "    0% {\n",
              "      border-color: transparent;\n",
              "      border-bottom-color: var(--fill-color);\n",
              "      border-left-color: var(--fill-color);\n",
              "    }\n",
              "    20% {\n",
              "      border-color: transparent;\n",
              "      border-left-color: var(--fill-color);\n",
              "      border-top-color: var(--fill-color);\n",
              "    }\n",
              "    30% {\n",
              "      border-color: transparent;\n",
              "      border-left-color: var(--fill-color);\n",
              "      border-top-color: var(--fill-color);\n",
              "      border-right-color: var(--fill-color);\n",
              "    }\n",
              "    40% {\n",
              "      border-color: transparent;\n",
              "      border-right-color: var(--fill-color);\n",
              "      border-top-color: var(--fill-color);\n",
              "    }\n",
              "    60% {\n",
              "      border-color: transparent;\n",
              "      border-right-color: var(--fill-color);\n",
              "    }\n",
              "    80% {\n",
              "      border-color: transparent;\n",
              "      border-right-color: var(--fill-color);\n",
              "      border-bottom-color: var(--fill-color);\n",
              "    }\n",
              "    90% {\n",
              "      border-color: transparent;\n",
              "      border-bottom-color: var(--fill-color);\n",
              "    }\n",
              "  }\n",
              "</style>\n",
              "\n",
              "      <script>\n",
              "        async function quickchart(key) {\n",
              "          const quickchartButtonEl =\n",
              "            document.querySelector('#' + key + ' button');\n",
              "          quickchartButtonEl.disabled = true;  // To prevent multiple clicks.\n",
              "          quickchartButtonEl.classList.add('colab-df-spinner');\n",
              "          try {\n",
              "            const charts = await google.colab.kernel.invokeFunction(\n",
              "                'suggestCharts', [key], {});\n",
              "          } catch (error) {\n",
              "            console.error('Error during call to suggestCharts:', error);\n",
              "          }\n",
              "          quickchartButtonEl.classList.remove('colab-df-spinner');\n",
              "          quickchartButtonEl.classList.add('colab-df-quickchart-complete');\n",
              "        }\n",
              "        (() => {\n",
              "          let quickchartButtonEl =\n",
              "            document.querySelector('#df-393de01a-21df-4fa4-8abc-1c23d6854d1a button');\n",
              "          quickchartButtonEl.style.display =\n",
              "            google.colab.kernel.accessAllowed ? 'block' : 'none';\n",
              "        })();\n",
              "      </script>\n",
              "    </div>\n",
              "\n",
              "    </div>\n",
              "  </div>\n"
            ],
            "application/vnd.google.colaboratory.intrinsic+json": {
              "type": "dataframe",
              "summary": "{\n  \"name\": \"df\",\n  \"rows\": 8,\n  \"fields\": [\n    {\n      \"column\": \"Bathroom\",\n      \"properties\": {\n        \"dtype\": \"number\",\n        \"std\": 10.309496315810694,\n        \"min\": 0.0,\n        \"max\": 30.0,\n        \"num_unique_values\": 3,\n        \"samples\": [\n          30.0,\n          1.0,\n          0.0\n        ],\n        \"semantic_type\": \"\",\n        \"description\": \"\"\n      }\n    }\n  ]\n}"
            }
          },
          "metadata": {},
          "execution_count": 40
        }
      ]
    },
    {
      "cell_type": "code",
      "source": [
        "df.isnull().sum()"
      ],
      "metadata": {
        "colab": {
          "base_uri": "https://localhost:8080/",
          "height": 303
        },
        "id": "93sCQDE-_wxd",
        "outputId": "1dcac157-4693-44f9-f757-d5bf3ee640c0"
      },
      "execution_count": 41,
      "outputs": [
        {
          "output_type": "execute_result",
          "data": {
            "text/plain": [
              "Title          0\n",
              "Price          0\n",
              "Furnished      0\n",
              "Bathroom       0\n",
              "Carpet Area    0\n",
              "Tenant         0\n",
              "Status         0\n",
              "dtype: int64"
            ],
            "text/html": [
              "<div>\n",
              "<style scoped>\n",
              "    .dataframe tbody tr th:only-of-type {\n",
              "        vertical-align: middle;\n",
              "    }\n",
              "\n",
              "    .dataframe tbody tr th {\n",
              "        vertical-align: top;\n",
              "    }\n",
              "\n",
              "    .dataframe thead th {\n",
              "        text-align: right;\n",
              "    }\n",
              "</style>\n",
              "<table border=\"1\" class=\"dataframe\">\n",
              "  <thead>\n",
              "    <tr style=\"text-align: right;\">\n",
              "      <th></th>\n",
              "      <th>0</th>\n",
              "    </tr>\n",
              "  </thead>\n",
              "  <tbody>\n",
              "    <tr>\n",
              "      <th>Title</th>\n",
              "      <td>0</td>\n",
              "    </tr>\n",
              "    <tr>\n",
              "      <th>Price</th>\n",
              "      <td>0</td>\n",
              "    </tr>\n",
              "    <tr>\n",
              "      <th>Furnished</th>\n",
              "      <td>0</td>\n",
              "    </tr>\n",
              "    <tr>\n",
              "      <th>Bathroom</th>\n",
              "      <td>0</td>\n",
              "    </tr>\n",
              "    <tr>\n",
              "      <th>Carpet Area</th>\n",
              "      <td>0</td>\n",
              "    </tr>\n",
              "    <tr>\n",
              "      <th>Tenant</th>\n",
              "      <td>0</td>\n",
              "    </tr>\n",
              "    <tr>\n",
              "      <th>Status</th>\n",
              "      <td>0</td>\n",
              "    </tr>\n",
              "  </tbody>\n",
              "</table>\n",
              "</div><br><label><b>dtype:</b> int64</label>"
            ]
          },
          "metadata": {},
          "execution_count": 41
        }
      ]
    },
    {
      "cell_type": "code",
      "source": [
        "df.duplicated().sum()"
      ],
      "metadata": {
        "colab": {
          "base_uri": "https://localhost:8080/"
        },
        "id": "uhRK1VKU_6Go",
        "outputId": "f233ee9d-6396-42cb-8383-f071548fd454"
      },
      "execution_count": 42,
      "outputs": [
        {
          "output_type": "execute_result",
          "data": {
            "text/plain": [
              "np.int64(0)"
            ]
          },
          "metadata": {},
          "execution_count": 42
        }
      ]
    },
    {
      "cell_type": "markdown",
      "source": [
        "Data Cleaning/Type Conversion"
      ],
      "metadata": {
        "id": "BIdWxTP6AdoW"
      }
    },
    {
      "cell_type": "code",
      "source": [
        "df['Price'] = df['Price'].str.replace('[^0-9]', '', regex=True).astype(float)\n",
        "df['Carpet Area'] = df['Carpet Area'].str.replace('[^0-9.]', '', regex=True).astype(float)"
      ],
      "metadata": {
        "id": "ngkndfeAAEPo"
      },
      "execution_count": 43,
      "outputs": []
    },
    {
      "cell_type": "code",
      "source": [
        "df['Furnished'] = df['Furnished'].str.strip()\n",
        "df['Tenant'] = df['Tenant'].str.strip()\n",
        "df['Status'] = df['Status'].str.strip()"
      ],
      "metadata": {
        "id": "QsGPXrttA7ms"
      },
      "execution_count": 44,
      "outputs": []
    },
    {
      "cell_type": "code",
      "source": [
        "print(\"\\n=== Numeric Summary ===\")\n",
        "print(df[['Price', 'Carpet Area', 'Bathroom']].describe())\n",
        "\n",
        "print(\"\\n=== Categorical Summary ===\")\n",
        "print(\"\\nFurnished Distribution:\\n\", df['Furnished'].value_counts())\n",
        "print(\"\\nTenant Type Distribution:\\n\", df['Tenant'].value_counts())\n",
        "print(\"\\nStatus Distribution:\\n\", df['Status'].value_counts())"
      ],
      "metadata": {
        "colab": {
          "base_uri": "https://localhost:8080/"
        },
        "id": "JFY4I-cKA-ko",
        "outputId": "90ad97bf-d394-4605-d59c-75d2883c8632"
      },
      "execution_count": 45,
      "outputs": [
        {
          "output_type": "stream",
          "name": "stdout",
          "text": [
            "\n",
            "=== Numeric Summary ===\n",
            "              Price  Carpet Area  Bathroom\n",
            "count     30.000000    30.000000      30.0\n",
            "mean   16483.333333   494.266667       1.0\n",
            "std     7475.803882   157.399543       0.0\n",
            "min     5000.000000   110.000000       1.0\n",
            "25%    12000.000000   400.000000       1.0\n",
            "50%    15000.000000   500.000000       1.0\n",
            "75%    19000.000000   600.000000       1.0\n",
            "max    37000.000000   900.000000       1.0\n",
            "\n",
            "=== Categorical Summary ===\n",
            "\n",
            "Furnished Distribution:\n",
            " Furnished\n",
            "Semi-Furnished    19\n",
            "Furnished          7\n",
            "Unfurnished        4\n",
            "Name: count, dtype: int64\n",
            "\n",
            "Tenant Type Distribution:\n",
            " Tenant\n",
            "Bachelors/Family    19\n",
            "Bachelors           11\n",
            "Name: count, dtype: int64\n",
            "\n",
            "Status Distribution:\n",
            " Status\n",
            "Immediately     27\n",
            "From Oct '25     3\n",
            "Name: count, dtype: int64\n"
          ]
        }
      ]
    },
    {
      "cell_type": "code",
      "source": [
        "sns.set(style=\"whitegrid\")"
      ],
      "metadata": {
        "id": "72pU7N8BBCSb"
      },
      "execution_count": 46,
      "outputs": []
    },
    {
      "cell_type": "code",
      "source": [
        "plt.figure(figsize=(8,5))\n",
        "sns.histplot(df['Price'], bins=10, kde=True, color='skyblue')\n",
        "plt.title(\"Distribution of 1BHK Flat Prices\")\n",
        "plt.xlabel(\"Price (INR)\")\n",
        "plt.ylabel(\"Count\")\n",
        "plt.show()"
      ],
      "metadata": {
        "colab": {
          "base_uri": "https://localhost:8080/",
          "height": 496
        },
        "id": "EaKCnasDBHyI",
        "outputId": "36a13585-ddcc-4c54-c5a8-91724ea9f97b"
      },
      "execution_count": 47,
      "outputs": [
        {
          "output_type": "display_data",
          "data": {
            "text/plain": [
              "<Figure size 800x500 with 1 Axes>"
            ],
            "image/png": "[encoded data removed]"
          },
          "metadata": {}
        }
      ]
    },
    {
      "cell_type": "code",
      "source": [
        "plt.figure(figsize=(8,5))\n",
        "sns.histplot(df['Carpet Area'], bins=10, kde=True, color='orange')\n",
        "plt.title(\"Distribution of Carpet Area\")\n",
        "plt.xlabel(\"Carpet Area (sq.ft)\")\n",
        "plt.ylabel(\"Count\")\n",
        "plt.show()"
      ],
      "metadata": {
        "colab": {
          "base_uri": "https://localhost:8080/",
          "height": 496
        },
        "id": "a8FnOD7TBKKN",
        "outputId": "e15a54ac-1d20-4956-ee69-e5f17ffdd0af"
      },
      "execution_count": 48,
      "outputs": [
        {
          "output_type": "display_data",
          "data": {
            "text/plain": [
              "<Figure size 800x500 with 1 Axes>"
            ],
            "image/png": "[encoded data removed]"
          },
          "metadata": {}
        }
      ]
    },
    {
      "cell_type": "code",
      "source": [
        "plt.figure(figsize=(8,5))\n",
        "sns.scatterplot(data=df, x='Carpet Area', y='Price', hue='Furnished', s=100)\n",
        "plt.title(\"Price vs Carpet Area\")\n",
        "plt.xlabel(\"Carpet Area (sq.ft)\")\n",
        "plt.ylabel(\"Price (INR)\")\n",
        "plt.show()"
      ],
      "metadata": {
        "colab": {
          "base_uri": "https://localhost:8080/",
          "height": 496
        },
        "id": "QBtlA4SaBRZM",
        "outputId": "7c4b6b8e-c7b4-4dc2-b6ec-e574c979f4ed"
      },
      "execution_count": 49,
      "outputs": [
        {
          "output_type": "display_data",
          "data": {
            "text/plain": [
              "<Figure size 800x500 with 1 Axes>"
            ],
            "image/png": "[encoded data removed]"
          },
          "metadata": {}
        }
      ]
    },
    {
      "cell_type": "code",
      "source": [
        "plt.figure(figsize=(6,4))\n",
        "sns.countplot(data=df, x='Furnished', palette='Set2')\n",
        "plt.title(\"Furnished vs Unfurnished Flats\")\n",
        "plt.show()"
      ],
      "metadata": {
        "colab": {
          "base_uri": "https://localhost:8080/",
          "height": 526
        },
        "id": "RkW4WxJPBNny",
        "outputId": "b162eceb-d5d3-41e7-f29e-c06482bcb008"
      },
      "execution_count": 50,
      "outputs": [
        {
          "output_type": "stream",
          "name": "stderr",
          "text": [
            "/tmp/ipython-input-4226760515.py:2: FutureWarning: \n",
            "\n",
            "Passing `palette` without assigning `hue` is deprecated and will be removed in v0.14.0. Assign the `x` variable to `hue` and set `legend=False` for the same effect.\n",
            "\n",
            "  sns.countplot(data=df, x='Furnished', palette='Set2')\n"
          ]
        },
        {
          "output_type": "display_data",
          "data": {
            "text/plain": [
              "<Figure size 600x400 with 1 Axes>"
            ],
            "image/png": "[encoded data removed]"
          },
          "metadata": {}
        }
      ]
    },
    {
      "cell_type": "code",
      "source": [
        "plt.figure(figsize=(6,4))\n",
        "sns.countplot(data=df, x='Tenant', palette='Set3')\n",
        "plt.title(\"Tenant Type Distribution\")\n",
        "plt.show()"
      ],
      "metadata": {
        "colab": {
          "base_uri": "https://localhost:8080/",
          "height": 419
        },
        "id": "dUfAmZqPBUoV",
        "outputId": "979571c1-1b3b-40d9-ae65-712cc5d45170"
      },
      "execution_count": 55,
      "outputs": [
        {
          "output_type": "display_data",
          "data": {
            "text/plain": [
              "<Figure size 600x400 with 1 Axes>"
            ],
            "image/png": "[encoded data removed]"
          },
          "metadata": {}
        }
      ]
    },
    {
      "cell_type": "code",
      "source": [
        "plt.figure(figsize=(6,4))\n",
        "sns.countplot(data=df, x='Status', palette='Set1')\n",
        "plt.title(\"Status of Flats\")\n",
        "plt.show()"
      ],
      "metadata": {
        "colab": {
          "base_uri": "https://localhost:8080/",
          "height": 419
        },
        "id": "ZtXFwd0cBWfY",
        "outputId": "e044ae7d-e542-481c-c9e6-eba0655ce086"
      },
      "execution_count": 56,
      "outputs": [
        {
          "output_type": "display_data",
          "data": {
            "text/plain": [
              "<Figure size 600x400 with 1 Axes>"
            ],
            "image/png": "[encoded data removed]"
          },
          "metadata": {}
        }
      ]
    },
    {
      "cell_type": "markdown",
      "source": [],
      "metadata": {
        "id": "tOgsEA9dB2MA"
      }
    },
    {
      "cell_type": "code",
      "source": [
        "# Average price by Furnished\n",
        "avg_price_furnished = df.groupby('Furnished')['Price'].mean()\n",
        "print(\"\\nAverage Price by Furnished Status:\\n\", avg_price_furnished)"
      ],
      "metadata": {
        "colab": {
          "base_uri": "https://localhost:8080/"
        },
        "id": "TPU28lHWBwkS",
        "outputId": "7a1225d0-bf10-4f39-acfa-806132c3cd6f"
      },
      "execution_count": 58,
      "outputs": [
        {
          "output_type": "stream",
          "name": "stdout",
          "text": [
            "\n",
            "Average Price by Furnished Status:\n",
            " Furnished\n",
            "Furnished         23571.428571\n",
            "Semi-Furnished    13605.263158\n",
            "Unfurnished       17750.000000\n",
            "Name: Price, dtype: float64\n"
          ]
        }
      ]
    },
    {
      "cell_type": "code",
      "source": [
        "# Average price by Tenant type\n",
        "avg_price_tenant = df.groupby('Tenant')['Price'].mean()\n",
        "print(\"\\nAverage Price by Tenant Type:\\n\", avg_price_tenant)"
      ],
      "metadata": {
        "colab": {
          "base_uri": "https://localhost:8080/"
        },
        "id": "gsjQxS-zCIJu",
        "outputId": "2e9911eb-a0f7-4ff1-ed7a-b06d07f4cb2c"
      },
      "execution_count": 59,
      "outputs": [
        {
          "output_type": "stream",
          "name": "stdout",
          "text": [
            "\n",
            "Average Price by Tenant Type:\n",
            " Tenant\n",
            "Bachelors           14545.454545\n",
            "Bachelors/Family    17605.263158\n",
            "Name: Price, dtype: float64\n"
          ]
        }
      ]
    },
    {
      "cell_type": "code",
      "source": [
        "# Average price by Status\n",
        "avg_price_status = df.groupby('Status')['Price'].mean()\n",
        "print(\"\\nAverage Price by Status:\\n\", avg_price_status)"
      ],
      "metadata": {
        "colab": {
          "base_uri": "https://localhost:8080/"
        },
        "id": "YacQDW6TCLa4",
        "outputId": "3176c87c-10ed-4619-9610-b26c9e769292"
      },
      "execution_count": 60,
      "outputs": [
        {
          "output_type": "stream",
          "name": "stdout",
          "text": [
            "\n",
            "Average Price by Status:\n",
            " Status\n",
            "From Oct '25    14666.666667\n",
            "Immediately     16685.185185\n",
            "Name: Price, dtype: float64\n"
          ]
        }
      ]
    },
    {
      "cell_type": "code",
      "source": [
        "df.to_csv('magicbricks_listings_cleaned.csv', index=False)\n",
        "print(\"\\nCleaned dataset saved as magicbricks_listings_cleaned.csv\")"
      ],
      "metadata": {
        "colab": {
          "base_uri": "https://localhost:8080/"
        },
        "id": "qsnAkW-wCNQc",
        "outputId": "a36677ba-cfb6-458d-a065-c64a222742ca"
      },
      "execution_count": 61,
      "outputs": [
        {
          "output_type": "stream",
          "name": "stdout",
          "text": [
            "\n",
            "Cleaned dataset saved as magicbricks_listings_cleaned.csv\n"
          ]
        }
      ]
    }
  ]
}